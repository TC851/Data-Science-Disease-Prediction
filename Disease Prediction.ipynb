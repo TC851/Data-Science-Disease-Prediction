{
 "cells": [
  {
   "cell_type": "markdown",
   "id": "491fe7d2",
   "metadata": {},
   "source": [
    "Disease Prediction project: \n",
    "The aim of this project is to develop an accurate machine learning model that is able to predict one of 42 different diseases based on a set of symptoms. This should help doctors to make diagnoses more efficiently and accurately.\n",
    "\n",
    "The ultimate goal is to develop a model that:\n",
    "Has a high degree of accuracy in predicting diseases.\n",
    "Serves as a decision-making aid for doctors when making a diagnosis.\n",
    "Potentially contributes to the improvement of patient care."
   ]
  },
  {
   "cell_type": "code",
   "execution_count": 1,
   "id": "39c918cb",
   "metadata": {},
   "outputs": [],
   "source": [
    "import pandas as pd\n",
    "\n",
    "train_path = '/Users/caner/Desktop/Data Science/DiseasePrediction/Training.csv' \n",
    "test_path = '/Users/caner/Desktop/Data Science/DiseasePrediction/Testing.csv' \n",
    "\n",
    "train_df = pd.read_csv(train_path)\n",
    "test_df = pd.read_csv(test_path)"
   ]
  },
  {
   "cell_type": "code",
   "execution_count": 3,
   "id": "bd252c52",
   "metadata": {},
   "outputs": [
    {
     "name": "stdout",
     "output_type": "stream",
     "text": [
      "<class 'pandas.core.frame.DataFrame'>\n",
      "RangeIndex: 4920 entries, 0 to 4919\n",
      "Columns: 134 entries, itching to Unnamed: 133\n",
      "dtypes: float64(1), int64(132), object(1)\n",
      "memory usage: 5.0+ MB\n",
      "\n",
      "--------------------------------------------------\n",
      "\n",
      "<class 'pandas.core.frame.DataFrame'>\n",
      "RangeIndex: 42 entries, 0 to 41\n",
      "Columns: 133 entries, itching to prognosis\n",
      "dtypes: int64(132), object(1)\n",
      "memory usage: 43.8+ KB\n"
     ]
    }
   ],
   "source": [
    "train_df.info()\n",
    "print(\"\\n\" + \"-\"*50 + \"\\n\")\n",
    "test_df.info()\n"
   ]
  },
  {
   "cell_type": "code",
   "execution_count": null,
   "id": "acd58aa6",
   "metadata": {},
   "outputs": [],
   "source": []
  }
 ],
 "metadata": {
  "kernelspec": {
   "display_name": "Python 3 (ipykernel)",
   "language": "python",
   "name": "python3"
  },
  "language_info": {
   "codemirror_mode": {
    "name": "ipython",
    "version": 3
   },
   "file_extension": ".py",
   "mimetype": "text/x-python",
   "name": "python",
   "nbconvert_exporter": "python",
   "pygments_lexer": "ipython3",
   "version": "3.9.12"
  }
 },
 "nbformat": 4,
 "nbformat_minor": 5
}
